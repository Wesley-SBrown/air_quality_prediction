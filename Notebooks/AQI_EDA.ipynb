{
 "cells": [
  {
   "cell_type": "markdown",
   "metadata": {},
   "source": [
    "### Focusing on: https://aqs.epa.gov/aqsweb/documents/data_api.html  \n",
    "\n",
    "Nice because output is in json\n",
    "\n",
    "RATE LIMITING:\n",
    "The API has the following limits imposed on request size:\n",
    "\n",
    "* Length of time. All services (except Monitor) must have the end date (edate field) be in the same year as the begin date (bdate field).\n",
    "* Number of parameters. Most services allow for the selection of multiple parameter codes (param field). A maximum of 5 parameter codes may be listed in a single request.\n",
    "\n",
    "Please adhere to the following when using the API.\n",
    "* Limit the size of q*ueries. Our database contains billions of values and you may request more than you intend. If you are unsure of the amount of data, start small and work your way up. We request that you limit queries to 1,000,000 rows of data each. You can use the \"observation count\" field on the annualData service to determine how much data exists for a time-parameter-geography combination. If you have any questions or need advice, please contact us.\n",
    "* Limit the frequency of queries. Our system can process a limited load. If scripting requests, please wait for one request to complete before submitting another and do not make more than 10 requests per minute. Also, we request a pause of 5 seconds between requests and adjust accordingly for response time and size."
   ]
  },
  {
   "cell_type": "code",
   "execution_count": 7,
   "metadata": {},
   "outputs": [],
   "source": [
    "import requests\n",
    "import requests_cache\n",
    "import html\n",
    "\n",
    "# requires ipykernel ~ for this specific environment"
   ]
  },
  {
   "cell_type": "code",
   "execution_count": 2,
   "metadata": {},
   "outputs": [
    {
     "name": "stdout",
     "output_type": "stream",
     "text": [
      "c:\\Users\\maxha\\Documents\\GitHub\\air_quality_prediction\n",
      "['.git', '.gitignore', '.venv', 'data', 'EDA.ipynb', 'EPA_air_quality.sqlite', 'personal.py', 'README.md', 'requirements.txt']\n"
     ]
    }
   ],
   "source": [
    "# Trouble Shooting\n",
    "\n",
    "import os\n",
    "print(os.getcwd())\n",
    "\n",
    "# List files in the current directory to ensure personal.py is present\n",
    "print(os.listdir())\n",
    "\n",
    "# identified issues with a pychache directory ~ solve by removing"
   ]
  },
  {
   "cell_type": "code",
   "execution_count": 8,
   "metadata": {},
   "outputs": [],
   "source": [
    "# Creating the Cache\n",
    "session = requests_cache.CachedSession('EPA_air_quality')\n",
    "\n",
    "# Install cache globally\n",
    "# requests_cache.install_cache('EPA_air_quality')"
   ]
  },
  {
   "cell_type": "code",
   "execution_count": 2,
   "metadata": {},
   "outputs": [],
   "source": [
    "from personal import email"
   ]
  },
  {
   "cell_type": "code",
   "execution_count": null,
   "metadata": {},
   "outputs": [],
   "source": [
    "# https://aqs.epa.gov/data/api/signup?email=myemail@example.com\n",
    "# Sending Access (signup token) to email\n",
    "\n",
    "endpoint = \"https://aqs.epa.gov/data/api/signup\"\n",
    "param = {\"email\" : email}\n",
    "\n",
    "response = session.get(endpoint, params=param)\n",
    "response.raise_for_status()\n"
   ]
  },
  {
   "cell_type": "code",
   "execution_count": 3,
   "metadata": {},
   "outputs": [],
   "source": [
    "from personal import EPA_API_KEY"
   ]
  },
  {
   "cell_type": "markdown",
   "metadata": {},
   "source": [
    "Relevant Packages to Add onto the project  \n",
    "**Will add packages as necessary ~ not installing the entire redundancy into the environment yet**"
   ]
  },
  {
   "cell_type": "markdown",
   "metadata": {},
   "source": [
    "### What are the relevant endpoints\n",
    "\n",
    "* __list/\"\"__ for internal values or codes\n",
    "* __monitors/__ for operational information about the samplers (monitors) used to collect the data. Includes identifying information, operational dates, operating organizations\n",
    "* __sampleData/__\n",
    "\n",
    "DATA:\n",
    "* __dailyData/__\n",
    "* __quarterlyData/__\n",
    "* __annualData/__\n",
    "* __qaAnnualPerformanceEvaluations/__ pairs of data (known and measured values) at several concentration levels for gaseous criteria pollutants\n",
    "* __qaCollocatedAssessments/__flow rate checks performed by monitoring agencies\n",
    "* __qaFlowRateVerifications/__ flow rate audit data\n",
    "* __qaFlowRateAudits/__ measured versus actual concentration of 1 point QC checks\n",
    "* __qaPepAudits/__ data related to PM2.5 monitoring system audits\n",
    "* __transactionsSample/__ sample data in the submission (transaction) format for AQS.\n",
    "* __transactionsQaAnnualPerformanceEvaluations/__ pairs of data QA at several concentration levels in the submission (transaction) format for AQS\n",
    "\n",
    "~ blank samples?\n"
   ]
  },
  {
   "cell_type": "markdown",
   "metadata": {},
   "source": [
    "## Identification of Relevant Data to Extract"
   ]
  },
  {
   "cell_type": "code",
   "execution_count": 9,
   "metadata": {},
   "outputs": [],
   "source": [
    "# endpoint list/states with parameters email and key\n",
    "\n",
    "state_endpoint = \"https://aqs.epa.gov/data/api/list/states\"\n",
    "param = {\"email\" : email, \"key\" : EPA_API_KEY}\n",
    "\n",
    "states = session.get(state_endpoint, params = param)\n",
    "states.raise_for_status()\n",
    "# going further list/countiesByState\t"
   ]
  },
  {
   "cell_type": "code",
   "execution_count": 11,
   "metadata": {},
   "outputs": [
    {
     "data": {
      "text/plain": [
       "{'Header': [{'status': 'Success',\n",
       "   'request_time': '2025-01-21T21:56:28-05:00',\n",
       "   'url': 'https://aqs.epa.gov/data/api/list/states?email=maxvo%40ucdavis.edu&key=rubyhare78',\n",
       "   'rows': 56}],\n",
       " 'Data': [{'code': '01', 'value_represented': 'Alabama'},\n",
       "  {'code': '02', 'value_represented': 'Alaska'},\n",
       "  {'code': '04', 'value_represented': 'Arizona'},\n",
       "  {'code': '05', 'value_represented': 'Arkansas'},\n",
       "  {'code': '06', 'value_represented': 'California'},\n",
       "  {'code': '08', 'value_represented': 'Colorado'},\n",
       "  {'code': '09', 'value_represented': 'Connecticut'},\n",
       "  {'code': '10', 'value_represented': 'Delaware'},\n",
       "  {'code': '11', 'value_represented': 'District Of Columbia'},\n",
       "  {'code': '12', 'value_represented': 'Florida'},\n",
       "  {'code': '13', 'value_represented': 'Georgia'},\n",
       "  {'code': '15', 'value_represented': 'Hawaii'},\n",
       "  {'code': '16', 'value_represented': 'Idaho'},\n",
       "  {'code': '17', 'value_represented': 'Illinois'},\n",
       "  {'code': '18', 'value_represented': 'Indiana'},\n",
       "  {'code': '19', 'value_represented': 'Iowa'},\n",
       "  {'code': '20', 'value_represented': 'Kansas'},\n",
       "  {'code': '21', 'value_represented': 'Kentucky'},\n",
       "  {'code': '22', 'value_represented': 'Louisiana'},\n",
       "  {'code': '23', 'value_represented': 'Maine'},\n",
       "  {'code': '24', 'value_represented': 'Maryland'},\n",
       "  {'code': '25', 'value_represented': 'Massachusetts'},\n",
       "  {'code': '26', 'value_represented': 'Michigan'},\n",
       "  {'code': '27', 'value_represented': 'Minnesota'},\n",
       "  {'code': '28', 'value_represented': 'Mississippi'},\n",
       "  {'code': '29', 'value_represented': 'Missouri'},\n",
       "  {'code': '30', 'value_represented': 'Montana'},\n",
       "  {'code': '31', 'value_represented': 'Nebraska'},\n",
       "  {'code': '32', 'value_represented': 'Nevada'},\n",
       "  {'code': '33', 'value_represented': 'New Hampshire'},\n",
       "  {'code': '34', 'value_represented': 'New Jersey'},\n",
       "  {'code': '35', 'value_represented': 'New Mexico'},\n",
       "  {'code': '36', 'value_represented': 'New York'},\n",
       "  {'code': '37', 'value_represented': 'North Carolina'},\n",
       "  {'code': '38', 'value_represented': 'North Dakota'},\n",
       "  {'code': '39', 'value_represented': 'Ohio'},\n",
       "  {'code': '40', 'value_represented': 'Oklahoma'},\n",
       "  {'code': '41', 'value_represented': 'Oregon'},\n",
       "  {'code': '42', 'value_represented': 'Pennsylvania'},\n",
       "  {'code': '44', 'value_represented': 'Rhode Island'},\n",
       "  {'code': '45', 'value_represented': 'South Carolina'},\n",
       "  {'code': '46', 'value_represented': 'South Dakota'},\n",
       "  {'code': '47', 'value_represented': 'Tennessee'},\n",
       "  {'code': '48', 'value_represented': 'Texas'},\n",
       "  {'code': '49', 'value_represented': 'Utah'},\n",
       "  {'code': '50', 'value_represented': 'Vermont'},\n",
       "  {'code': '51', 'value_represented': 'Virginia'},\n",
       "  {'code': '53', 'value_represented': 'Washington'},\n",
       "  {'code': '54', 'value_represented': 'West Virginia'},\n",
       "  {'code': '55', 'value_represented': 'Wisconsin'},\n",
       "  {'code': '56', 'value_represented': 'Wyoming'},\n",
       "  {'code': '66', 'value_represented': 'Guam'},\n",
       "  {'code': '72', 'value_represented': 'Puerto Rico'},\n",
       "  {'code': '78', 'value_represented': 'Virgin Islands'},\n",
       "  {'code': '80', 'value_represented': 'Country Of Mexico'},\n",
       "  {'code': 'CC', 'value_represented': 'Canada'}]}"
      ]
     },
     "execution_count": 11,
     "metadata": {},
     "output_type": "execute_result"
    }
   ],
   "source": [
    "states.json()"
   ]
  }
 ],
 "metadata": {
  "kernelspec": {
   "display_name": "venv",
   "language": "python",
   "name": "python3"
  },
  "language_info": {
   "codemirror_mode": {
    "name": "ipython",
    "version": 3
   },
   "file_extension": ".py",
   "mimetype": "text/x-python",
   "name": "python",
   "nbconvert_exporter": "python",
   "pygments_lexer": "ipython3",
   "version": "3.12.4"
  }
 },
 "nbformat": 4,
 "nbformat_minor": 2
}
