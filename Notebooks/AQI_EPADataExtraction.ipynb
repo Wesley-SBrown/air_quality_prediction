{
 "cells": [
  {
   "cell_type": "markdown",
   "metadata": {},
   "source": [
    "### Focusing on: https://aqs.epa.gov/aqsweb/documents/data_api.html  \n",
    "\n",
    "Nice because output is in json\n",
    "\n",
    "RATE LIMITING:\n",
    "The API has the following limits imposed on request size:\n",
    "\n",
    "* Length of time. All services (except Monitor) must have the end date (edate field) be in the same year as the begin date (bdate field).\n",
    "* Number of parameters. Most services allow for the selection of multiple parameter codes (param field). A maximum of 5 parameter codes may be listed in a single request.\n",
    "\n",
    "Please adhere to the following when using the API.\n",
    "* Limit the size of q*ueries. Our database contains billions of values and you may request more than you intend. If you are unsure of the amount of data, start small and work your way up. We request that you limit queries to 1,000,000 rows of data each. You can use the \"observation count\" field on the annualData service to determine how much data exists for a time-parameter-geography combination. If you have any questions or need advice, please contact us.\n",
    "* Limit the frequency of queries. Our system can process a limited load. If scripting requests, please wait for one request to complete before submitting another and do not make more than 10 requests per minute. Also, we request a pause of 5 seconds between requests and adjust accordingly for response time and size."
   ]
  },
  {
   "cell_type": "code",
   "execution_count": null,
   "metadata": {},
   "outputs": [],
   "source": [
    "import requests\n",
    "import requests_cache\n",
    "import html\n",
    "\n",
    "# requires ipykernel ~ for this specific environment"
   ]
  },
  {
   "cell_type": "code",
   "execution_count": null,
   "metadata": {},
   "outputs": [],
   "source": [
    "# Trouble Shooting\n",
    "\n",
    "import os\n",
    "print(os.getcwd())\n",
    "\n",
    "# List files in the current directory to ensure personal.py is present\n",
    "print(os.listdir())\n",
    "\n",
    "# identified issues with a pychache directory ~ solve by removing"
   ]
  },
  {
   "cell_type": "code",
   "execution_count": null,
   "metadata": {},
   "outputs": [],
   "source": [
    "# Creating the Cache\n",
    "session = requests_cache.CachedSession('EPA_air_quality')\n",
    "\n",
    "# Install cache globally\n",
    "# requests_cache.install_cache('EPA_air_quality')"
   ]
  },
  {
   "cell_type": "code",
   "execution_count": null,
   "metadata": {},
   "outputs": [],
   "source": [
    "from personal import email"
   ]
  },
  {
   "cell_type": "code",
   "execution_count": null,
   "metadata": {},
   "outputs": [],
   "source": [
    "# https://aqs.epa.gov/data/api/signup?email=myemail@example.com\n",
    "# Sending Access (signup token) to email\n",
    "\n",
    "endpoint = \"https://aqs.epa.gov/data/api/signup\"\n",
    "param = {\"email\" : email}\n",
    "\n",
    "response = session.get(endpoint, params=param)\n",
    "response.raise_for_status()\n"
   ]
  },
  {
   "cell_type": "code",
   "execution_count": null,
   "metadata": {},
   "outputs": [],
   "source": [
    "from personal import EPA_API_KEY"
   ]
  },
  {
   "cell_type": "markdown",
   "metadata": {},
   "source": [
    "Relevant Packages to Add onto the project  \n",
    "**Will add packages as necessary ~ not installing the entire redundancy into the environment yet**"
   ]
  },
  {
   "cell_type": "markdown",
   "metadata": {},
   "source": [
    "### What are the relevant endpoints\n",
    "\n",
    "* __list/\"\"__ for internal values or codes\n",
    "* __monitors/__ for operational information about the samplers (monitors) used to collect the data. Includes identifying information, operational dates, operating organizations\n",
    "* __sampleData/__\n",
    "\n",
    "DATA:\n",
    "* __dailyData/__\n",
    "* __quarterlyData/__\n",
    "* __annualData/__\n",
    "* __qaAnnualPerformanceEvaluations/__ pairs of data (known and measured values) at several concentration levels for gaseous criteria pollutants\n",
    "* __qaCollocatedAssessments/__flow rate checks performed by monitoring agencies\n",
    "* __qaFlowRateVerifications/__ flow rate audit data\n",
    "* __qaFlowRateAudits/__ measured versus actual concentration of 1 point QC checks\n",
    "* __qaPepAudits/__ data related to PM2.5 monitoring system audits\n",
    "* __transactionsSample/__ sample data in the submission (transaction) format for AQS.\n",
    "* __transactionsQaAnnualPerformanceEvaluations/__ pairs of data QA at several concentration levels in the submission (transaction) format for AQS\n",
    "\n",
    "~ blank samples?\n"
   ]
  },
  {
   "cell_type": "markdown",
   "metadata": {},
   "source": [
    "## Identification of Relevant Data to Extract"
   ]
  },
  {
   "cell_type": "code",
   "execution_count": null,
   "metadata": {},
   "outputs": [],
   "source": [
    "# endpoint list/states with parameters email and key\n",
    "\n",
    "state_endpoint = \"https://aqs.epa.gov/data/api/list/states\"\n",
    "param = {\"email\" : email, \"key\" : EPA_API_KEY}\n",
    "\n",
    "states = session.get(state_endpoint, params = param)\n",
    "states.raise_for_status()\n",
    "# going further list/countiesByState\t"
   ]
  },
  {
   "cell_type": "code",
   "execution_count": null,
   "metadata": {},
   "outputs": [],
   "source": [
    "import pandas as pd\n",
    "\n",
    "states_data = states.json()['Data']\n",
    "states_data\n",
    "\n",
    "state_df = pd.DataFrame(states_data)"
   ]
  },
  {
   "cell_type": "code",
   "execution_count": null,
   "metadata": {},
   "outputs": [],
   "source": [
    "state_df"
   ]
  },
  {
   "cell_type": "markdown",
   "metadata": {},
   "source": [
    "### Suggested Codes:  \n",
    "_____\n",
    "* PM2.5 (88101) for sure cuz its the most crucial for health impacts  \n",
    "* Carbon Monoxide (42101) - direct byproduct of combustion and wildfires  \n",
    "* Nitrogen Dioxide (42602) - common in fire affected regions and contributes to respiratory issues  \n",
    "* Carbon Dioxide (42102)\n",
    "* Ozone (44201) -  wildfire emissions interacting with sunlight, leading to smog formation  \n",
    "* Maybe PM10 (81102) - coarser particulate matter that contributes to haze and visibility issues  "
   ]
  },
  {
   "cell_type": "markdown",
   "metadata": {},
   "source": [
    "## Obtaining Quarterly Data w/ quarterlyData/byState endpoint\n",
    "  \n",
    "parameters: email, key, param, bdate, edate, state  \n",
    "(date format: YYYYMMDD ) (param: AQS codes ~ comma seperated list of 5 digit codes) (state: 2 digit FIPS)  \n",
    "~ data supposedly begins in 1980  \n"
   ]
  },
  {
   "cell_type": "code",
   "execution_count": null,
   "metadata": {},
   "outputs": [],
   "source": [
    "# example to identify structure of data\n",
    "endpoint = \"https://aqs.epa.gov/data/api/quarterlyData/byState\"\n",
    "param = {\n",
    "    \"email\": email,\n",
    "    \"key\": EPA_API_KEY,\n",
    "    \"state\": \"22\",  # Louisiana\n",
    "    \"param\": \"88101,42101,42602,42102,44201\",\n",
    "    \"bdate\": \"20100101\",  # Start date: January 1, 2010\n",
    "    \"edate\": \"20101231\"   # End date: December 31, 2010 (within one year)\n",
    "}# extracting quarterly summary data for Alabama for 2023\n",
    "\n",
    "response = session.get(endpoint, params = param)\n",
    "response.raise_for_status()\n",
    "test_data = response.json()"
   ]
  },
  {
   "cell_type": "code",
   "execution_count": null,
   "metadata": {},
   "outputs": [],
   "source": [
    "len(test_data['Data']) # 4 quarters and 5 parameters ~ still so many retrieved is questionable"
   ]
  },
  {
   "cell_type": "code",
   "execution_count": null,
   "metadata": {},
   "outputs": [],
   "source": [
    "test_data['Data'][1]"
   ]
  },
  {
   "cell_type": "markdown",
   "metadata": {},
   "source": [
    "Identified Parameters is located in quarterly-data-structure.txt"
   ]
  },
  {
   "cell_type": "code",
   "execution_count": null,
   "metadata": {},
   "outputs": [],
   "source": [
    "def get_quarterly_data_by_state(state_code, bdate, edate):\n",
    "    '''\n",
    "    Structuring the get request; utilizing the cache ~ set baseline for most of the parameters\n",
    "    '''\n",
    "    # Define the endpoint and parameters\n",
    "    endpoint = \"https://aqs.epa.gov/data/api/quarterlyData/byState\"\n",
    "    param = {\n",
    "        \"email\": email,\n",
    "        \"key\": EPA_API_KEY,\n",
    "        \"state\": state_code,\n",
    "        \"param\": \"88101,42101,42602,42102,44201\",\n",
    "        \"bdate\":  bdate, # ~ YYYYMMDD\n",
    "        \"edate\":  edate, # ~ YYYYMMDD\n",
    "    }\n",
    "\n",
    "    # Make the API request\n",
    "    response = session.get(endpoint, params=param)\n",
    "    response.raise_for_status()\n",
    "\n",
    "    # Process the response\n",
    "    data = response.json()\n",
    "    return data\n",
    "\n",
    "\n",
    "def collect_data(dataframe):\n",
    "    '''\n",
    "    ### DEFUNCT\n",
    "    Helper function to execute get_quarterly_data_by_state over each state\n",
    "    \n",
    "    Returns a list of dictionaries, each containing the data for a state and the value represented\n",
    "    '''\n",
    "    repository = []\n",
    "    for index, row in dataframe.iterrows():\n",
    "            # https://pandas.pydata.org/docs/reference/api/pandas.DataFrame.iterrows.html\n",
    "        state_code = row['code']\n",
    "        value_rep = row['value_represented']\n",
    "        data = get_quarterly_data_by_state(state_code)\n",
    "        repository.append({'data': data, 'value_rep': value_rep})\n",
    "    return repository\n",
    "\n",
    "# Function to extract specific fields\n",
    "def extract_fields(data):\n",
    "    '''\n",
    "    Function to extract specific fields from the API response\n",
    "    '''\n",
    "    extracted_data = []\n",
    "    for record in data['Data']:\n",
    "        extracted_record = {\n",
    "            'state_code': record.get('state_code'),\n",
    "            'parameter_code': record.get('parameter_code'),\n",
    "            'latitude': record.get('latitude'),\n",
    "            'longitude': record.get('longitude'),\n",
    "            'parameter': record.get('parameter'),\n",
    "            'sample_duration': record.get('sample_duration'),\n",
    "            'pollutant_standard': record.get('pollutant_standard'),\n",
    "            'year': record.get('year'),\n",
    "            'quarter': record.get('quarter'),\n",
    "            'observation_percent': record.get('observation_percent'),\n",
    "            'arithmetic_mean': record.get('arithmetic_mean'),\n",
    "            'maximum_value': record.get('maximum_value'),\n",
    "            'quarterly_criteria_met': record.get('quarterly_criteria_met'),\n",
    "            'monitoring_agency': record.get('monitoring_agency'),\n",
    "            'state': record.get('state')\n",
    "        }\n",
    "        extracted_data.append(extracted_record)\n",
    "    return extracted_data"
   ]
  },
  {
   "cell_type": "code",
   "execution_count": null,
   "metadata": {},
   "outputs": [],
   "source": [
    "import requests\n",
    "import pandas as pd\n",
    "from datetime import datetime, timedelta\n",
    "import time\n",
    "\n",
    "def data_extract(dataframe):\n",
    "    '''\n",
    "    Helper function to iterate over a state_code dataframe and get data for each state\n",
    "    \n",
    "    Returns a list of dictionaries, each containing the data for a state and the value represented\n",
    "    \n",
    "    [\n",
    "    {\n",
    "        'value_rep': 'Alabama',  # Example value represented\n",
    "        'data': [  # List of extracted records for the state\n",
    "            {\n",
    "                'state_code': '01',\n",
    "                ...\n",
    "            },\n",
    "            # More records...\n",
    "        ]\n",
    "    },\n",
    "    '''\n",
    "    repository = []\n",
    "    for index, row in dataframe.iterrows():\n",
    "        state_code = row['code']\n",
    "        value_rep = row['value_represented']\n",
    "        \n",
    "        # Skip rows where state_code is not a two-digit numeric value\n",
    "        if not (state_code.isdigit() and len(state_code) == 2): # error handling\n",
    "            continue\n",
    "        \n",
    "        state_entry = next((item for item in repository if item['value_rep'] == value_rep), None)\n",
    "        if state_entry is None:\n",
    "            state_entry = {'value_rep': value_rep, 'data': []}\n",
    "            repository.append(state_entry)\n",
    "        for year in range(2020, 2025): # iterate over the last 5 years\n",
    "            bdate = f\"{year}0101\"  # January 1st of the year\n",
    "            edate = f\"{year}1231\"  # December 31st of the year\n",
    "            data = get_quarterly_data_by_state(state_code, bdate, edate)\n",
    "            extracted_data = extract_fields(data)\n",
    "            state_entry['data'].extend(extracted_data)\n",
    "            time.sleep(1)  # Sleep for 1 second to avoid hitting the API rate limit\n",
    "    return repository"
   ]
  },
  {
   "cell_type": "code",
   "execution_count": null,
   "metadata": {},
   "outputs": [],
   "source": [
    "### Function Call\n",
    "\n",
    "my_data = data_extract(state_df)"
   ]
  },
  {
   "cell_type": "code",
   "execution_count": null,
   "metadata": {},
   "outputs": [],
   "source": [
    "import json\n",
    "import gzip\n",
    "\n",
    "def export_compressed_data(my_data, filename):\n",
    "    with gzip.open(filename, 'wt', encoding='utf-8') as f:\n",
    "        json.dump(my_data, f)\n",
    "\n",
    "# Call the function to export my_data\n",
    "export_compressed_data(my_data, 'data/Raw_EPA_AQI_Quarterly(by_State_Last_5yrs).gz')"
   ]
  },
  {
   "cell_type": "code",
   "execution_count": null,
   "metadata": {},
   "outputs": [],
   "source": [
    "def extract_metadata(my_data):\n",
    "    for state_data in my_data:\n",
    "        value_rep = state_data['value_rep']\n",
    "        data_records = state_data['data']\n",
    "        \n",
    "        # Print metadata for each state\n",
    "        print(f\"Metadata for {value_rep}:\")\n",
    "        for record in data_records:\n",
    "            state_code = record.get('state_code')\n",
    "            parameter_code = record.get('parameter_code')\n",
    "            year = record.get('year')\n",
    "            quarter = record.get('quarter')\n",
    "            monitoring_agency = record.get('monitoring_agency')\n",
    "            \n",
    "            # Print the extracted metadata\n",
    "            print(f\"  State Code: {state_code}\")\n",
    "            print(f\"  Parameter Code: {parameter_code}\")\n",
    "            print(f\"  Year: {year}\")\n",
    "            print(f\"  Quarter: {quarter}\")\n",
    "            print(f\"  Monitoring Agency: {monitoring_agency}\")\n",
    "            print(\"  ---\")\n",
    "\n",
    "# Call the function to extract and print metadata\n",
    "extract_metadata(my_data)"
   ]
  },
  {
   "cell_type": "markdown",
   "metadata": {},
   "source": [
    "## Retrieve Daily Data for Just California\n",
    "* same parameters  \n",
    "* endpoin:\tdailyData/byState\n",
    "* state code for California is 06"
   ]
  },
  {
   "cell_type": "code",
   "execution_count": null,
   "metadata": {},
   "outputs": [],
   "source": [
    "# example to identify structure of data\n",
    "endpoint = \"https://aqs.epa.gov/data/api/dailyData/byState\"\n",
    "param = {\n",
    "    \"email\": email,\n",
    "    \"key\": EPA_API_KEY,\n",
    "    \"state\": \"22\",  # Louisiana\n",
    "    \"param\": \"88101,42101,42602,42102,44201\",\n",
    "    \"bdate\": \"20100101\",  # Start date: January 1, 2010\n",
    "    \"edate\": \"20101231\"   # End date: December 31, 2010 (within one year)\n",
    "}# extracting quarterly summary data for Alabama for 2023\n",
    "\n",
    "response = session.get(endpoint, params = param)\n",
    "response.raise_for_status()\n",
    "test_data = response.json()"
   ]
  },
  {
   "cell_type": "code",
   "execution_count": null,
   "metadata": {},
   "outputs": [],
   "source": [
    "test_data['Data'][1]"
   ]
  },
  {
   "cell_type": "code",
   "execution_count": null,
   "metadata": {},
   "outputs": [],
   "source": [
    "import time\n",
    "import requests\n",
    "from requests.exceptions import ConnectionError, HTTPError\n",
    "\n",
    "def get_daily_data_by_state(state_code, bdate, edate):\n",
    "    '''\n",
    "    Structuring the get request; utilizing the cache ~ set baseline for most of the parameters\n",
    "    '''\n",
    "    # Define the endpoint and parameters\n",
    "    endpoint = \"https://aqs.epa.gov/data/api/dailyData/byState\"\n",
    "    param = {\n",
    "        \"email\": email,\n",
    "        \"key\": EPA_API_KEY,\n",
    "        \"state\": state_code,\n",
    "        \"param\": \"88101,42101,42602,42102,44201\",\n",
    "        \"bdate\": bdate,  # ~ YYYYMMDD\n",
    "        \"edate\": edate,  # ~ YYYYMMDD\n",
    "    }\n",
    "\n",
    "    # Make the API request with error handling\n",
    "    for attempt in range(5):  # Retry up to 5 times\n",
    "        try:\n",
    "            response = session.get(endpoint, params=param)\n",
    "            response.raise_for_status()\n",
    "            data = response.json()\n",
    "            return data\n",
    "        except (ConnectionError, HTTPError) as e:\n",
    "            print(f\"Attempt {attempt + 1} failed: {e}\")\n",
    "            time.sleep(2)  # Wait for 2 seconds before retrying\n",
    "    raise Exception(\"Failed to fetch data after 5 attempts\")\n",
    "\n",
    "# ERROR HANDLING\n",
    "\n",
    "# require a new extract_fields function\n",
    "# require a new data_extract function\n",
    "\n",
    "def extract_fields2(data):\n",
    "    '''\n",
    "    Function to extract specific fields from the API response\n",
    "    '''\n",
    "    extracted_data = []\n",
    "    for record in data['Data']:\n",
    "        extracted_record = {\n",
    "            'latitude': record.get('latitude'),\n",
    "            'longitude': record.get('longitude'),\n",
    "            'parameter': record.get('parameter'),\n",
    "            'sample_duration': record.get('sample_duration'),\n",
    "            'pollutant_standard': record.get('pollutant_standard'),\n",
    "            'date_local': record.get('date_local'),\n",
    "            'units_of_measure': record.get('units_of_measure'),\n",
    "            'arithmetic_mean': record.get('arithmetic_mean'),\n",
    "            'first_max_value': record.get('first_max_value'),\n",
    "            'state': record.get('state'),\n",
    "            'city': record.get('city')\n",
    "        }\n",
    "        extracted_data.append(extracted_record)\n",
    "    return extracted_data\n",
    "\n",
    "def singlestate_dailydata_extract(state_code, years):\n",
    "    '''\n",
    "    Helper function to extract quarterly data for a given state and list of years\n",
    "    \n",
    "    Aggregates the data into a single repository list\n",
    "    '''\n",
    "    quarters = [\n",
    "        (\"0101\", \"0331\"),  # Q1: January 1st to March 31st\n",
    "        (\"0401\", \"0630\"),  # Q2: April 1st to June 30th\n",
    "        (\"0701\", \"0930\"),  # Q3: July 1st to September 30th\n",
    "        (\"1001\", \"1231\")   # Q4: October 1st to December 31st\n",
    "    ]\n",
    "    \n",
    "    repository = []\n",
    "    \n",
    "    for year in years:\n",
    "        for bdate_suffix, edate_suffix in quarters:\n",
    "            bdate = f\"{year}{bdate_suffix}\"\n",
    "            edate = f\"{year}{edate_suffix}\"\n",
    "            data = get_daily_data_by_state(state_code, bdate, edate)\n",
    "            extracted_data = extract_fields2(data)\n",
    "            repository.extend(extracted_data)\n",
    "            time.sleep(1)  # Sleep for 1 second to avoid hitting the API rate limit\n",
    "            \n",
    "    return repository"
   ]
  },
  {
   "cell_type": "code",
   "execution_count": null,
   "metadata": {},
   "outputs": [],
   "source": [
    "# Define the state code for California\n",
    "state_code = \"06\"\n",
    "years = [2013,2014,2015,2016,2017,2018,2019,2020,2021,2022,2023,2024]\n",
    "\n",
    "\n",
    "california_daily_data = singlestate_dailydata_extract(state_code, years)\n"
   ]
  }
 ],
 "metadata": {
  "kernelspec": {
   "display_name": "venv",
   "language": "python",
   "name": "python3"
  },
  "language_info": {
   "codemirror_mode": {
    "name": "ipython",
    "version": 3
   },
   "file_extension": ".py",
   "mimetype": "text/x-python",
   "name": "python",
   "nbconvert_exporter": "python",
   "pygments_lexer": "ipython3",
   "version": "3.12.4"
  }
 },
 "nbformat": 4,
 "nbformat_minor": 2
}
