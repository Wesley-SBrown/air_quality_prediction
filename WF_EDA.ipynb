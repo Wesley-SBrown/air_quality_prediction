{
 "cells": [
  {
   "cell_type": "markdown",
   "id": "8e2ec4d4-204e-428e-86a3-546b701b3d4e",
   "metadata": {},
   "source": [
    "# Wildfire Data Preparation and EDA\n",
    "\n",
    "The California Wildfire Perimeters dataset, sourced from the California Department of Forestry and Fire Protection (CALFIRE) and available through the California Natural Resources Agency GIS Data Portal, provides a comprehensive record of wildfire occurrences in California from 1950 onward. This dataset encompasses detailed information on the geographic boundaries of fires across the state, offering invaluable insights into the spatial and temporal distribution of wildfires over decades. By analyzing this data we can gain a deeper understanding of wildfire patterns, contributing factors, and impacts, which is crucial for improving fire management strategies and mitigating the effects of fires on communities and ecosystems. This dataset not only serves as a critical resource for historical analysis but also aids in predictive modeling and risk assessment in the face of increasing wildfire activity due to climate change and other environmental factors."
   ]
  },
  {
   "cell_type": "markdown",
   "id": "851eec03-80e4-4799-9cd7-cc764c224fa9",
   "metadata": {},
   "source": [
    "## Import and Clean Data"
   ]
  },
  {
   "cell_type": "code",
   "execution_count": null,
   "id": "b9073010-2f3f-4be1-988d-9e4c308e0157",
   "metadata": {},
   "outputs": [],
   "source": [
    "import pandas as pd"
   ]
  },
  {
   "cell_type": "code",
   "execution_count": null,
   "id": "e0fb31af-ee39-4f32-8d51-dad035eade98",
   "metadata": {},
   "outputs": [],
   "source": [
    "# Read CSV file\n",
    "wildfire_data = pd.read_csv('data/California_Fire_Perimeters_(1950%2B).csv')"
   ]
  },
  {
   "cell_type": "code",
   "execution_count": null,
   "id": "abbb9b0c-c9cc-4661-9639-f774f5a47d62",
   "metadata": {},
   "outputs": [],
   "source": [
    "# Clean and prepare dataset\n",
    "\n",
    "# Standardize column names\n",
    "wildfire_data.columns = wildfire_data.columns.str.strip().str.lower().str.replace(' ', '_')\n",
    "\n",
    "# Convert date columns to datetime\n",
    "date_columns = ['alarm_date', 'cont_date']\n",
    "for col in date_columns:\n",
    "    wildfire_data[col] = pd.to_datetime(wildfire_data[col], errors='coerce')\n",
    "\n",
    "# Drop years before 1980\n",
    "wildfire_data = wildfire_data[wildfire_data['year_'] >= 1980]\n",
    "\n",
    "# Drop rows with invalid or missing dates\n",
    "wildfire_data = wildfire_data.dropna(subset=date_columns)\n",
    "\n",
    "# Fill missing values\n",
    "wildfire_data['cause'] = wildfire_data['cause'].fillna(0) # Fill missing cause with 0 (unknown)\n",
    "wildfire_data['comments'] = wildfire_data['comments'].fillna('No comments')\n",
    "\n",
    "# Drop unnecessary columns\n",
    "drop_columns = ['irwinid', 'complex_id', 'fire_num', 'decades']\n",
    "wildfire_data = wildfire_data.drop(columns=drop_columns, errors='ignore')\n",
    "\n",
    "# Remove duplicate rows\n",
    "wildfire_data = wildfire_data.drop_duplicates()\n",
    "\n",
    "# Reset index\n",
    "wildfire_data = wildfire_data.reset_index(drop=True)"
   ]
  },
  {
   "cell_type": "markdown",
   "id": "bdd7382e-d262-4dcd-ba39-5bb906617898",
   "metadata": {},
   "source": [
    "Create an intensity variable that measures the severity of each wildfire on a scale from 1 to 100, incorporating the wildfire duration (cont_date - alarm_date) and the total affected acreage."
   ]
  },
  {
   "cell_type": "code",
   "execution_count": null,
   "id": "626b75cb-a751-4b09-a364-55907ff57f4b",
   "metadata": {},
   "outputs": [],
   "source": [
    "# Create intensity variable\n",
    "\n",
    "# Calculate wildfire duration\n",
    "wildfire_data['duration_days'] = wildfire_data['cont_date'] - wildfire_data['alarm_date']\n",
    "\n",
    "# Normalize duration\n",
    "wildfire_data['normalized_duration'] = wildfire_data['duration_days'] / wildfire_data['duration_days'].max()\n",
    "\n",
    "# Normalize acreage\n",
    "wildfire_data['normalized_acreage'] = wildfire_data['gis_acres'] / wildfire_data['gis_acres'].max()\n",
    "\n",
    "# Calculate raw intensity measure (equal weights for both duration and acreage)\n",
    "wildfire_data['intensity'] = 100 * (0.5 * wildfire_data['normalized_duration'] + 0.5 * wildfire_data['normalized_acreage'])\n",
    "\n",
    "# Rescale intensity measure to scale from 1 to 100\n",
    "wildfire_data['rescaled_intensity'] = (\n",
    "        1 + (wildfire_data['intensity'] - wildfire_data['intensity'].min()) /\n",
    "        (wildfire_data['intensity'].max() - wildfire_data['intensity'].min()) * 99)"
   ]
  },
  {
   "cell_type": "code",
   "execution_count": null,
   "id": "d2221ace-f5c6-4f3d-8329-f3ddcbebf790",
   "metadata": {},
   "outputs": [],
   "source": [
    "# Save cleaned data to new CSV file\n",
    "wildfire_data.to_csv('data/California_Fire_Perimeters_Cleaned.csv', index=False)"
   ]
  }
 ],
 "metadata": {
  "kernelspec": {
   "display_name": "Python 3 (ipykernel)",
   "language": "python",
   "name": "python3"
  },
  "language_info": {
   "codemirror_mode": {
    "name": "ipython",
    "version": 3
   },
   "file_extension": ".py",
   "mimetype": "text/x-python",
   "name": "python",
   "nbconvert_exporter": "python",
   "pygments_lexer": "ipython3",
   "version": "3.12.2"
  }
 },
 "nbformat": 4,
 "nbformat_minor": 5
}
